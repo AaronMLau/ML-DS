{
 "cells": [
  {
   "cell_type": "markdown",
   "metadata": {},
   "source": [
    "# Generalizing initial response of COVID-19 to predict the effect and range of a future pandemic "
   ]
  },
  {
   "cell_type": "markdown",
   "metadata": {},
   "source": [
    "##### Aaron Lau \n",
    "University of Illinois at Chicago <br>\n",
    "_Computer Science: Machine Learning - COVID-19_"
   ]
  },
  {
   "cell_type": "markdown",
   "metadata": {},
   "source": [
    "### Abstract\n",
    "Today is May 8th, and here in Illinois the COVID-19 pandemic has infected over 70,000 cases and over 3,000 deaths. Over 250,000 people have died due to COVID-19, and over 700,000 people have been infected worldwide. Most government agencies have implemented some form of social distancing to lower the spread of the virus. When the virus initially spread in China, there was barely any data available on how widespread the virus was and how infectious it was. Even now, there are widespread models that explore the different _SIR_ models [Rogers, Molteni, 2020]. _SIR_ models categorize people into three groups: susceptible individuals, infected individuals, and recovered individuals (or those who have died, labeled removed, also in this group). \n",
    "\n",
    "We will attempt to formalize a few response patterns based on a proposed future virus V, which is twice as infectious as COVID-19, V(2), as infectious as COVID-19, V(1), or half as infectious as COVID-19 V(1/2). Then, we will build __XXX__ models that incorporate different types of responses on a spectrum from no response to a maxium potential reduction in the spread of the disease. We will compare against an Decision Tree model for each. Then, we will apply the findings to the current COVID-19 response by different countries, focusing on the US, Italy, and China."
   ]
  },
  {
   "cell_type": "markdown",
   "metadata": {},
   "source": [
    "### Introduction\n",
    "In order to quantify how infectious a disease is, a \"Reproductive Number\" $R_{0}$ [Rogers, Molteni, 2020] is used in the _SIR_ model which depends on how quickly the virus spreads from one person to another. When the disease first appears, nearly the entire population is in the _susceptible_ group, with a few infected individuals in the _infected_ group. Then, based on $R_{0}$, the disease spreads. How many people fit into each group, and how large $R_{0}$ is, will inform what response is appropriate to the disease. \n"
   ]
  },
  {
   "cell_type": "markdown",
   "metadata": {},
   "source": [
    "### Literature Review"
   ]
  },
  {
   "cell_type": "markdown",
   "metadata": {},
   "source": [
    "### Data and Methods"
   ]
  },
  {
   "cell_type": "markdown",
   "metadata": {},
   "source": [
    "### Results and Evaluation"
   ]
  },
  {
   "cell_type": "markdown",
   "metadata": {},
   "source": [
    "### Conclusion"
   ]
  },
  {
   "cell_type": "markdown",
   "metadata": {},
   "source": [
    "### References and Bibliography"
   ]
  },
  {
   "cell_type": "code",
   "execution_count": null,
   "metadata": {},
   "outputs": [],
   "source": [
    "goal: build a model that can predict reasonably well on small amounts of data for a pandemic"
   ]
  }
 ],
 "metadata": {
  "kernelspec": {
   "display_name": "Python 3",
   "language": "python",
   "name": "python3"
  },
  "language_info": {
   "codemirror_mode": {
    "name": "ipython",
    "version": 3
   },
   "file_extension": ".py",
   "mimetype": "text/x-python",
   "name": "python",
   "nbconvert_exporter": "python",
   "pygments_lexer": "ipython3",
   "version": "3.8.2"
  }
 },
 "nbformat": 4,
 "nbformat_minor": 4
}
